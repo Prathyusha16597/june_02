{
 "cells": [
  {
   "cell_type": "code",
   "execution_count": 16,
   "id": "b5cf026c",
   "metadata": {},
   "outputs": [
    {
     "name": "stdout",
     "output_type": "stream",
     "text": [
      "Enter ITEM_ID : 101\n",
      "Enter ITEM_NAME : Phone\n",
      "Enter a COST_PRICE : 10000\n",
      "Enter a CATEGRY : A\n",
      "Display All the Details\n",
      "Item_id :  101\n",
      "Item_Name :  Phone\n",
      "Categry :  A\n",
      "Cost_price :  10000\n",
      "SellingPrice :  10850.0\n"
     ]
    }
   ],
   "source": [
    "#create a Item class which should have \n",
    "#   item id, name , cost price of the item\n",
    "#   item catogery, selling price\n",
    "#   selling price is decided on the following way\n",
    "#   for cateogry A type of item it is 8.5% profit\n",
    "#   SP = CP + (CP * profit%)\n",
    "#   for cateogry B type of item it is 12.5% profit\n",
    "#   SP = CP + (CP * profit%)\n",
    "#   display the item details with the SP\n",
    "class Item():\n",
    "    item_id=int(input(\"Enter ITEM_ID : \"))\n",
    "    item_name=input(\"Enter ITEM_NAME : \")\n",
    "    cp=int(input(\"Enter a COST_PRICE : \"))\n",
    "    categry=input(\"Enter a CATEGRY : \")\n",
    "    def __init__(self):\n",
    "        print(\"Display All the Details\")\n",
    "    def sellingPrice(self):\n",
    "        if self.categry=='A':\n",
    "            profit=8.5/100\n",
    "            sp=self.cp+(self.cp*profit)\n",
    "            return sp\n",
    "    \n",
    "        else:\n",
    "            if self.categry=='B':\n",
    "                profit=12.5/100\n",
    "                sp=self.cp+(self.cp*profit)\n",
    "                return sp\n",
    "i=Item()\n",
    "s=i.sellingPrice()\n",
    "print(\"Item_id : \",i.item_id)\n",
    "print(\"Item_Name : \",i.item_name)\n",
    "print(\"Categry : \",i.categry)\n",
    "print(\"Cost_price : \",i.cp)\n",
    "print(\"SellingPrice : \",s)       "
   ]
  },
  {
   "cell_type": "code",
   "execution_count": null,
   "id": "c4a8b432",
   "metadata": {},
   "outputs": [],
   "source": [
  
    "# Enter a number or assign a number in a class called Prime\n",
    "#    determine whether it is Prime or Not Prime\n",
    "#    for example \n",
    "#    p1 = Prime(10)\n",
    "#    p1.display()   output is 10 is NOT Prime\n",
    "#    p2 = Prime(29)\n",
    "#    p2.display()  output 29 is PRIME\n",
    "\n",
    "class Prime_Number:\n",
    "    def Prime(self,n):\n",
    "        self.num=n\n",
    "    def display(self):\n",
    "        for i in range(2,self.num):\n",
    "            if self.num%i!=0:\n",
    "                print(self.num,'Prime ')\n",
    "                break\n",
    "            else:\n",
    "                print(self.num,'is NoT Prime')\n",
    "                break\n",
    "p1=Prime_Number()\n",
    "p1.Prime(10)\n",
    "p1.display()\n",
    "p1.Prime(29)\n",
    "p1.display()\n"
   ]
  },
  {
   "cell_type": "code",
   "execution_count": 22,
   "id": "6afb789e",
   "metadata": {},
   "outputs": [
    {
     "name": "stdout",
     "output_type": "stream",
     "text": [
      "NOT Leap Year\n"
     ]
    }
   ],
   "source": [
    "# Assign a year and check whether it is Leap or not Leap\n",
    "#    a1 =  Leap(1999)\n",
    "#    a1.display()  .... Not Leap\n",
    "class Leap_Year:\n",
    "    def Leap(self,year):\n",
    "        self.year=year\n",
    "    def display(self):\n",
    "        if self.year%4==0: \n",
    "            print(\"Leap Year\")\n",
    "        else:\n",
    "            print('NOT Leap Year')\n",
    "l=Leap_Year()\n",
    "l.Leap(1999)\n",
    "l.display()"
   ]
  },
  {
   "cell_type": "code",
   "execution_count": 26,
   "id": "7db6dfae",
   "metadata": {},
   "outputs": [
    {
     "name": "stdout",
     "output_type": "stream",
     "text": [
      "**********"
     ]
    }
   ],
   "source": [
    "# assign a char say * and how many times it should be printed\n",
    "#    say 15\n",
    "#    print the * that many times \n",
    "#    p1 = Pattern('*',10)\n",
    "#    p1.display()\n",
    "#    * * * * * * * * *\n",
    "class Patterns:\n",
    "    def Pattern(self,s,n):\n",
    "        self.n=n\n",
    "        self.s=s\n",
    "    def display(self):\n",
    "        pattern=self.s*self.n\n",
    "        print(pattern)\n",
    "p1=Patterns()\n",
    "p1.Pattern('*',10)\n",
    "p1.display()\n"
   ]
  },
  {
   "cell_type": "code",
   "execution_count": 4,
   "id": "139201bc",
   "metadata": {},
   "outputs": [
    {
     "name": "stdout",
     "output_type": "stream",
     "text": [
      "Enter a Name : Arjun\n",
      "Enter a Average : 88.3\n",
      "Enter a Category : D\n",
      "Enter a Income : 78000\n",
      "Enter a Year : 2019\n",
      "You qualifed for Defence\n"
     ]
    }
   ],
   "source": [
    "#input the avg of the student\n",
    "#   and the category say \n",
    "#   G - General\n",
    "#   D - Defence\n",
    "#   O - Others\n",
    "#   also input the year of passing \n",
    "#   the criteria for admission is as follwing \n",
    "#   For G the avg must be above 80 and the \n",
    "#   YOP must be 2021\n",
    "#   For D the avg must be above 68 and the YOP\n",
    "#   can be 2019 2020 or 2021\n",
    "#   For O then avg must not be less than 60 and \n",
    "#   YOP could be 2020 or 2021\n",
    "\n",
    "#   if the candidate parents/gurdian income is \n",
    "#   less than 80000 pa and they have passed after 2019\n",
    "#   and thier avg is above 55 then grant admission\n",
    "#   otherwise no admission\n",
    "class Student:\n",
    "    def details(self):\n",
    "        self.name=input(\"Enter a Name : \")\n",
    "        self.avg=float(input(\"Enter a Average : \"))\n",
    "        self.category=input(\"Enter a Category : \")\n",
    "        self.income=int(input(\"Enter a Income : \"))\n",
    "        self.year=int(input(\"Enter a Year : \"))\n",
    "            \n",
    "    def display(self):\n",
    "        if self.category==\"G\" or self.category=='g':\n",
    "            if self.avg>80 and self.year=='2021':\n",
    "                print(\"you qualifed for General\")\n",
    "            else:\n",
    "                if self.income<=80000 and self.avg>=85 and self.year==2019:\n",
    "                    print(\"You qualifed for General\")\n",
    "                else:\n",
    "                    print(\"NOT qualified General\")\n",
    "        elif self.category=='D' or self.category=='d':\n",
    "            if self.avg>=68 and (self.year==2019 or yop==2020 or self.year==2021):\n",
    "                print('You qualifed for Defence')\n",
    "            else:\n",
    "                if self.income<=80000 and self.avg>=85 and self.year==2019:\n",
    "                    print(\"You qualifed for Defence\")\n",
    "                else:\n",
    "                    print(\"Not qualified for Deferec \")\n",
    "        elif self.category==\"O\" or self.category==\"o\":\n",
    "            if self.avg>=60 and (self.year==2020 or self.year==2021):\n",
    "                print(\"You qualifed for Others\")\n",
    "            else:\n",
    "                if self.income<=80000 and self.avg>=85 and self.year==2019:\n",
    "                    print(\"you qualifed for Others\")\n",
    "                else:\n",
    "                    print(\"NOT qualified for Others\")\n",
    "        \n",
    "s=Student()\n",
    "s.details()\n",
    "s.display()"
   ]
  },
  {
   "cell_type": "code",
   "execution_count": 8,
   "id": "5511fec7",
   "metadata": {},
   "outputs": [
    {
     "ename": "ValueError",
     "evalue": "could not convert string to float: ' 10 .25 '",
     "output_type": "error",
     "traceback": [
      "\u001b[1;31m---------------------------------------------------------------------------\u001b[0m",
      "\u001b[1;31mValueError\u001b[0m                                Traceback (most recent call last)",
      "\u001b[1;32m<ipython-input-8-fea688ee1091>\u001b[0m in \u001b[0;36m<module>\u001b[1;34m\u001b[0m\n\u001b[0;32m      1\u001b[0m \u001b[0ma\u001b[0m\u001b[1;33m=\u001b[0m\u001b[1;34m' 10 .25 '\u001b[0m\u001b[1;33m\u001b[0m\u001b[1;33m\u001b[0m\u001b[0m\n\u001b[1;32m----> 2\u001b[1;33m \u001b[0mb\u001b[0m\u001b[1;33m=\u001b[0m\u001b[0mfloat\u001b[0m\u001b[1;33m(\u001b[0m\u001b[0ma\u001b[0m\u001b[1;33m)\u001b[0m\u001b[1;33m\u001b[0m\u001b[1;33m\u001b[0m\u001b[0m\n\u001b[0m\u001b[0;32m      3\u001b[0m \u001b[0mprint\u001b[0m\u001b[1;33m(\u001b[0m\u001b[0mb\u001b[0m\u001b[1;33m)\u001b[0m\u001b[1;33m\u001b[0m\u001b[1;33m\u001b[0m\u001b[0m\n",
      "\u001b[1;31mValueError\u001b[0m: could not convert string to float: ' 10 .25 '"
     ]
    }
   ],
   "source": [
    "a=' 10.25 '\n",
    "b=float(a)\n",
    "print(b)"
   ]
  },
  {
   "cell_type": "code",
   "execution_count": 22,
   "id": "1e196d02",
   "metadata": {},
   "outputs": [
    {
     "name": "stdout",
     "output_type": "stream",
     "text": [
      "he56llo7\n"
     ]
    }
   ],
   "source": [
    "a='he  56llo7'\n",
    "#print(\"\".join(a.split(' ')))\n",
    "print(a.replace(\" \",\"\"))\n",
    "# print(a.ltrim(3,4))\n",
    "\n",
    "# b=str(a)\n",
    "# print(b)"
   ]
  },
  {
   "cell_type": "code",
   "execution_count": 8,
   "id": "d579cb52",
   "metadata": {},
   "outputs": [
    {
     "name": "stdout",
     "output_type": "stream",
     "text": [
      "Enter a Name : Arjun\n",
      "Enter a Name : Klaus\n",
      "Enter a Name : Arjun\n",
      "The name is AlRADE EXIST\n",
      "Enter a Name : Damon\n",
      "Enter a Name : Arjun Kumar\n",
      "Enter a Name : Andhna rao\n",
      "Enter a Name : STOP\n",
      "{'Arjun Kumar', 'Klaus', 'Damon', 'Andhna rao', 'Arjun'}\n",
      "1\n"
     ]
    }
   ],
   "source": [
    "#input names till the user types STOP to EXIT\n",
    "#   add the names to the set\n",
    "#   if the name inputted already exist then display the \n",
    "#   message as the name is already there hence NOT added again\n",
    "#   process how many names have Kumar or Rao as surname\n",
    "#   remove the following people name lets say it is provided in a '\n",
    "#   another set rem_name={'Ashok','Lalit','Pankaj','Anand','Asha','Usha'}\n",
    "#   how many names were removed from the name set you created\n",
    "class Names:\n",
    "    def name(self):\n",
    "        c=0\n",
    "        rem_name={'Ashok','Lalit','Pankaj','Anand','Asha','Usha'}\n",
    "        name=set()\n",
    "        while True:\n",
    "            names=input(\"Enter a Name : \")\n",
    "            if names==\"STOP\":\n",
    "                break\n",
    "            elif names in name:\n",
    "                print(\"The name is AlRADE EXIST\")\n",
    "            else:\n",
    "                name.add(names)\n",
    "                if names.endswith(\"kumar\") or names.endswith(\"rao\"):\n",
    "                    c=c+1\n",
    "                if names in rem_name:\n",
    "                    name.remove(names)\n",
    "        print(name)\n",
    "        print(c)\n",
    "n=Names()\n",
    "n.name()   "
   ]
  },
  {
   "cell_type": "code",
   "execution_count": 12,
   "id": "ddf9d550",
   "metadata": {},
   "outputs": [
    {
     "name": "stdout",
     "output_type": "stream",
     "text": [
      "enter the prod_id : 101\n",
      "enter the prod_name : TV\n",
      "enter the price : 45000\n",
      "enter the prod_id : 102\n",
      "enter the prod_name : mouse\n",
      "enter the price : 3000\n",
      "enter the prod_id : 103\n",
      "enter the prod_name : car\n",
      "enter the price : 8954834\n",
      "enter the prod_id : 103\n",
      "enter the invalid prod_id\n",
      "enter the prod_id : 104\n",
      "enter the prod_name : table\n",
      "enter the price : 5200\n",
      "enter the prod_id : 0\n",
      "[45000.0, 3000.0, 8954834.0, 5200.0]\n",
      "['TV', 'mouse', 'car', 'table']\n",
      "the costliest item is :  8954834.0\n",
      "the cheapest item is :  3000.0\n",
      "how many products are above the rate of 12500 :   2\n"
     ]
    },
    {
     "data": {
      "text/plain": [
       "{101: ['TV', 45000.0],\n",
       " 102: ['mouse', 3000.0],\n",
       " 103: ['car', 8954834.0],\n",
       " 104: ['table', 5200.0]}"
      ]
     },
     "execution_count": 12,
     "metadata": {},
     "output_type": "execute_result"
    }
   ],
   "source": [
    "#which has key prod_id and prod_name and price are the values\n",
    "#   as shown below\n",
    "#   prod = { 1000: ['Laptop',55000], 2000: ['Mouse',1500],....}\n",
    "#   add the prod id and the prod details in a list of prod info\n",
    "#   the flow should be like this\n",
    "#   enter the prod id?\n",
    "#   check if the prod id exists?\n",
    "#   NO not existing - then input the prod name and price and add them to \n",
    "#   a list\n",
    "#   that list is added as the value for the corresponding key in the dict\n",
    "#   YES - existing - then display the message that the prod id already exists\n",
    "#   finally when done with adding then find out\n",
    "#   the follwing details :-\n",
    "#   prod details - which is the costliest item\n",
    "#   prod details - which is the cheapest item\n",
    "#   how many products are above the rate of 12500?\n",
    "class Product:\n",
    "    def prod_details(self):\n",
    "        self.prod={}\n",
    "    \n",
    "        while True:\n",
    "            self.prod_id=int(input('enter the prod_id : '))\n",
    "            if self.prod_id==0:\n",
    "                break\n",
    "            elif self.prod_id in self.prod:\n",
    "                print(\"enter the invalid prod_id\")\n",
    "            elif self.prod_id  not in self.prod:\n",
    "                self.prod_name=input(\"enter the prod_name : \")\n",
    "                self.prod_price=float(input(\"enter the price : \"))\n",
    "                self.prod.update({self.prod_id:[self.prod_name,self.prod_price]})\n",
    "                \n",
    "    def display(self):\n",
    "        price=[]\n",
    "        pname=[]\n",
    "        c=0\n",
    "        for k,v in self.prod.items():\n",
    "            price.append(v[1])\n",
    "            pname.append(v[0])\n",
    "        for i in price:\n",
    "            if i>=12500:\n",
    "                c=c+1\n",
    "            price_max=max(price)\n",
    "            price_min=min(price)\n",
    "       \n",
    "        print(price)\n",
    "        print(pname)\n",
    "        print(\"the costliest item is : \",price_max)\n",
    "        print(\"the cheapest item is : \",price_min)\n",
    "        print(\"how many products are above the rate of 12500 :  \",c)\n",
    "        return self.prod\n",
    "p=Product()\n",
    "p.prod_details()\n",
    "p.display()"
   ]
  },
  {
   "cell_type": "code",
   "execution_count": null,
   "id": "267f271e",
   "metadata": {},
   "outputs": [],
   "source": []
  }
 ],
 "metadata": {
  "kernelspec": {
   "display_name": "Python 3",
   "language": "python",
   "name": "python3"
  }
 },
 "nbformat": 4,
 "nbformat_minor": 5
}
